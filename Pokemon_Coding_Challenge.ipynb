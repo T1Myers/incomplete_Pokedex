{
 "cells": [
  {
   "cell_type": "markdown",
   "metadata": {
    "id": "fK2SjXgoq_Tp"
   },
   "source": [
    "Take a look at PokeAPI: <a href=\"https://pokeapi.co/\">https://pokeapi.co/</a>.\n",
    "\n",
    "On this website you will see an API simulator. Trying any combination of correct possible server requests should yield you a successful result in the scrollable area. In this scrollable area is an exact server response you will get if you sent a response to it.\n",
    "\n",
    "Click on the `Documentation` tab, then click on v2. On the next page you'll see a bunch of words that seemingly make no sense. Just like with any API, there is documentation showing you how to use it. API documentation, by nature, is very wordy, overwhelming and almost never straightforward. You will find very few APIs that have simple documentation. Once you start to become a mid-senior level engineer, the little details in documentation will make all the difference in the quality of your results. Most people find API documentation difficult to navigate at first. Don't worry, it's normal.\n",
    "\n",
    "That being said, familiarize yourself with everything in the documentation and try to skim as much as possible to get a feel for where everything is before proceeding. "
   ]
  },
  {
   "cell_type": "markdown",
   "metadata": {
    "id": "MzLYqqcXq_Ty"
   },
   "source": [
    "<strong>`Objective`</strong>: There are several main Pokemon class types: Fire, Water, Grass, Rock, Electric. Your application will use PokeAPI to build your own API program. Compile a list of 30 total Pokemon that identify as the aforementioned class types. Each category will hold a list of Pokemon and their personal attributes and some statistics as follows. Make this program an object-oriented program:\n",
    "\n",
    "**Note** How you compile the list of Pokemon is entirely up to you. "
   ]
  },
  {
   "cell_type": "code",
   "execution_count": null,
   "metadata": {
    "id": "3y72fjpJq_T0"
   },
   "outputs": [],
   "source": [
    "# {\n",
    "#     \"Electric\": {\n",
    "#         \"characters\": [\n",
    "#             {\n",
    "#                 \"name\": \"Pikachu\",\n",
    "#                 \"height\": 4,\n",
    "#                 \"weight\": 60,\n",
    "#                 \"stats\": {\n",
    "#                     \"health (hp)\": 35,\n",
    "#                     \"attack\": 55,\n",
    "#                     \"defense\": 40,\n",
    "#                     \"speed\": 90\n",
    "#                 },\n",
    "#                 \"abilities\": [\n",
    "#                     {\n",
    "#                         \"name\": \"lightning-rod\"\n",
    "#                     },\n",
    "#                     {\n",
    "#                         \"name\": \"static\"\n",
    "#                     }\n",
    "#                 ]\n",
    "#             }\n",
    "#         ],\n",
    "#         \"statistics\": {\n",
    "#             \"average height\": 55.0,\n",
    "#             \"average weight\": 55.0,\n",
    "#             \"average health\": 55.0,\n",
    "#             \"average attack\": 55.0,\n",
    "#             \"average defense\": 55.0,\n",
    "#             \"average speed\": 55.0\n",
    "#         }\n",
    "#     },\n",
    "#     \"Water\": {\n",
    "#         \"characters\": [\n",
    "#             { ... }\n",
    "#         ],\n",
    "#         \"statistics\": { ... }\n",
    "#     }\n",
    "# }"
   ]
  },
  {
   "cell_type": "code",
   "execution_count": 18,
   "metadata": {},
   "outputs": [],
   "source": [
    "import requests\n",
    "import json\n",
    "\n",
    "page_link = 'https://pokeapi.co/api/v2/type/3'\n",
    "\n",
    "page = requests.get(page_link)        "
   ]
  },
  {
   "cell_type": "code",
   "execution_count": 106,
   "metadata": {},
   "outputs": [],
   "source": [
    "# print(page.status_code)"
   ]
  },
  {
   "cell_type": "code",
   "execution_count": 19,
   "metadata": {},
   "outputs": [],
   "source": [
    "data = page.json()"
   ]
  },
  {
   "cell_type": "code",
   "execution_count": 5,
   "metadata": {
    "scrolled": false
   },
   "outputs": [],
   "source": [
    "# print(data)"
   ]
  },
  {
   "cell_type": "code",
   "execution_count": 6,
   "metadata": {
    "scrolled": false
   },
   "outputs": [],
   "source": [
    "# data['pokemon']"
   ]
  },
  {
   "cell_type": "code",
   "execution_count": 20,
   "metadata": {},
   "outputs": [],
   "source": [
    "page_link1 = 'https://pokeapi.co/api/v2/pokemon/6/'\n",
    "\n",
    "page1 = requests.get(page_link1) "
   ]
  },
  {
   "cell_type": "code",
   "execution_count": 21,
   "metadata": {},
   "outputs": [],
   "source": [
    "data1 = page.json()"
   ]
  },
  {
   "cell_type": "code",
   "execution_count": 22,
   "metadata": {},
   "outputs": [
    {
     "name": "stdout",
     "output_type": "stream",
     "text": [
      "{'damage_relations': {'double_damage_from': [{'name': 'rock', 'url': 'https://pokeapi.co/api/v2/type/6/'}, {'name': 'electric', 'url': 'https://pokeapi.co/api/v2/type/13/'}, {'name': 'ice', 'url': 'https://pokeapi.co/api/v2/type/15/'}], 'double_damage_to': [{'name': 'fighting', 'url': 'https://pokeapi.co/api/v2/type/2/'}, {'name': 'bug', 'url': 'https://pokeapi.co/api/v2/type/7/'}, {'name': 'grass', 'url': 'https://pokeapi.co/api/v2/type/12/'}], 'half_damage_from': [{'name': 'fighting', 'url': 'https://pokeapi.co/api/v2/type/2/'}, {'name': 'bug', 'url': 'https://pokeapi.co/api/v2/type/7/'}, {'name': 'grass', 'url': 'https://pokeapi.co/api/v2/type/12/'}], 'half_damage_to': [{'name': 'rock', 'url': 'https://pokeapi.co/api/v2/type/6/'}, {'name': 'steel', 'url': 'https://pokeapi.co/api/v2/type/9/'}, {'name': 'electric', 'url': 'https://pokeapi.co/api/v2/type/13/'}], 'no_damage_from': [{'name': 'ground', 'url': 'https://pokeapi.co/api/v2/type/5/'}], 'no_damage_to': []}, 'game_indices': [{'game_index': 2, 'generation': {'name': 'generation-i', 'url': 'https://pokeapi.co/api/v2/generation/1/'}}, {'game_index': 2, 'generation': {'name': 'generation-ii', 'url': 'https://pokeapi.co/api/v2/generation/2/'}}, {'game_index': 2, 'generation': {'name': 'generation-iii', 'url': 'https://pokeapi.co/api/v2/generation/3/'}}, {'game_index': 2, 'generation': {'name': 'generation-iv', 'url': 'https://pokeapi.co/api/v2/generation/4/'}}, {'game_index': 2, 'generation': {'name': 'generation-v', 'url': 'https://pokeapi.co/api/v2/generation/5/'}}, {'game_index': 2, 'generation': {'name': 'generation-vi', 'url': 'https://pokeapi.co/api/v2/generation/6/'}}], 'generation': {'name': 'generation-i', 'url': 'https://pokeapi.co/api/v2/generation/1/'}, 'id': 3, 'move_damage_class': {'name': 'physical', 'url': 'https://pokeapi.co/api/v2/move-damage-class/2/'}, 'moves': [{'name': 'gust', 'url': 'https://pokeapi.co/api/v2/move/16/'}, {'name': 'wing-attack', 'url': 'https://pokeapi.co/api/v2/move/17/'}, {'name': 'fly', 'url': 'https://pokeapi.co/api/v2/move/19/'}, {'name': 'peck', 'url': 'https://pokeapi.co/api/v2/move/64/'}, {'name': 'drill-peck', 'url': 'https://pokeapi.co/api/v2/move/65/'}, {'name': 'mirror-move', 'url': 'https://pokeapi.co/api/v2/move/119/'}, {'name': 'sky-attack', 'url': 'https://pokeapi.co/api/v2/move/143/'}, {'name': 'aeroblast', 'url': 'https://pokeapi.co/api/v2/move/177/'}, {'name': 'feather-dance', 'url': 'https://pokeapi.co/api/v2/move/297/'}, {'name': 'air-cutter', 'url': 'https://pokeapi.co/api/v2/move/314/'}, {'name': 'aerial-ace', 'url': 'https://pokeapi.co/api/v2/move/332/'}, {'name': 'bounce', 'url': 'https://pokeapi.co/api/v2/move/340/'}, {'name': 'roost', 'url': 'https://pokeapi.co/api/v2/move/355/'}, {'name': 'pluck', 'url': 'https://pokeapi.co/api/v2/move/365/'}, {'name': 'tailwind', 'url': 'https://pokeapi.co/api/v2/move/366/'}, {'name': 'air-slash', 'url': 'https://pokeapi.co/api/v2/move/403/'}, {'name': 'brave-bird', 'url': 'https://pokeapi.co/api/v2/move/413/'}, {'name': 'defog', 'url': 'https://pokeapi.co/api/v2/move/432/'}, {'name': 'chatter', 'url': 'https://pokeapi.co/api/v2/move/448/'}, {'name': 'sky-drop', 'url': 'https://pokeapi.co/api/v2/move/507/'}, {'name': 'acrobatics', 'url': 'https://pokeapi.co/api/v2/move/512/'}, {'name': 'hurricane', 'url': 'https://pokeapi.co/api/v2/move/542/'}, {'name': 'oblivion-wing', 'url': 'https://pokeapi.co/api/v2/move/613/'}, {'name': 'dragon-ascent', 'url': 'https://pokeapi.co/api/v2/move/620/'}, {'name': 'supersonic-skystrike--physical', 'url': 'https://pokeapi.co/api/v2/move/626/'}, {'name': 'supersonic-skystrike--special', 'url': 'https://pokeapi.co/api/v2/move/627/'}, {'name': 'beak-blast', 'url': 'https://pokeapi.co/api/v2/move/690/'}, {'name': 'floaty-fall', 'url': 'https://pokeapi.co/api/v2/move/731/'}, {'name': 'max-airstream', 'url': 'https://pokeapi.co/api/v2/move/766/'}, {'name': 'dual-wingbeat', 'url': 'https://pokeapi.co/api/v2/move/814/'}], 'name': 'flying', 'names': [{'language': {'name': 'ja-Hrkt', 'url': 'https://pokeapi.co/api/v2/language/1/'}, 'name': 'ひこう'}, {'language': {'name': 'ko', 'url': 'https://pokeapi.co/api/v2/language/3/'}, 'name': '비행'}, {'language': {'name': 'fr', 'url': 'https://pokeapi.co/api/v2/language/5/'}, 'name': 'Vol'}, {'language': {'name': 'de', 'url': 'https://pokeapi.co/api/v2/language/6/'}, 'name': 'Flug'}, {'language': {'name': 'es', 'url': 'https://pokeapi.co/api/v2/language/7/'}, 'name': 'Volador'}, {'language': {'name': 'it', 'url': 'https://pokeapi.co/api/v2/language/8/'}, 'name': 'Volante'}, {'language': {'name': 'en', 'url': 'https://pokeapi.co/api/v2/language/9/'}, 'name': 'Flying'}], 'pokemon': [{'pokemon': {'name': 'charizard', 'url': 'https://pokeapi.co/api/v2/pokemon/6/'}, 'slot': 2}, {'pokemon': {'name': 'butterfree', 'url': 'https://pokeapi.co/api/v2/pokemon/12/'}, 'slot': 2}, {'pokemon': {'name': 'pidgey', 'url': 'https://pokeapi.co/api/v2/pokemon/16/'}, 'slot': 2}, {'pokemon': {'name': 'pidgeotto', 'url': 'https://pokeapi.co/api/v2/pokemon/17/'}, 'slot': 2}, {'pokemon': {'name': 'pidgeot', 'url': 'https://pokeapi.co/api/v2/pokemon/18/'}, 'slot': 2}, {'pokemon': {'name': 'spearow', 'url': 'https://pokeapi.co/api/v2/pokemon/21/'}, 'slot': 2}, {'pokemon': {'name': 'fearow', 'url': 'https://pokeapi.co/api/v2/pokemon/22/'}, 'slot': 2}, {'pokemon': {'name': 'zubat', 'url': 'https://pokeapi.co/api/v2/pokemon/41/'}, 'slot': 2}, {'pokemon': {'name': 'golbat', 'url': 'https://pokeapi.co/api/v2/pokemon/42/'}, 'slot': 2}, {'pokemon': {'name': 'farfetchd', 'url': 'https://pokeapi.co/api/v2/pokemon/83/'}, 'slot': 2}, {'pokemon': {'name': 'doduo', 'url': 'https://pokeapi.co/api/v2/pokemon/84/'}, 'slot': 2}, {'pokemon': {'name': 'dodrio', 'url': 'https://pokeapi.co/api/v2/pokemon/85/'}, 'slot': 2}, {'pokemon': {'name': 'scyther', 'url': 'https://pokeapi.co/api/v2/pokemon/123/'}, 'slot': 2}, {'pokemon': {'name': 'gyarados', 'url': 'https://pokeapi.co/api/v2/pokemon/130/'}, 'slot': 2}, {'pokemon': {'name': 'aerodactyl', 'url': 'https://pokeapi.co/api/v2/pokemon/142/'}, 'slot': 2}, {'pokemon': {'name': 'articuno', 'url': 'https://pokeapi.co/api/v2/pokemon/144/'}, 'slot': 2}, {'pokemon': {'name': 'zapdos', 'url': 'https://pokeapi.co/api/v2/pokemon/145/'}, 'slot': 2}, {'pokemon': {'name': 'moltres', 'url': 'https://pokeapi.co/api/v2/pokemon/146/'}, 'slot': 2}, {'pokemon': {'name': 'dragonite', 'url': 'https://pokeapi.co/api/v2/pokemon/149/'}, 'slot': 2}, {'pokemon': {'name': 'hoothoot', 'url': 'https://pokeapi.co/api/v2/pokemon/163/'}, 'slot': 2}, {'pokemon': {'name': 'noctowl', 'url': 'https://pokeapi.co/api/v2/pokemon/164/'}, 'slot': 2}, {'pokemon': {'name': 'ledyba', 'url': 'https://pokeapi.co/api/v2/pokemon/165/'}, 'slot': 2}, {'pokemon': {'name': 'ledian', 'url': 'https://pokeapi.co/api/v2/pokemon/166/'}, 'slot': 2}, {'pokemon': {'name': 'crobat', 'url': 'https://pokeapi.co/api/v2/pokemon/169/'}, 'slot': 2}, {'pokemon': {'name': 'togetic', 'url': 'https://pokeapi.co/api/v2/pokemon/176/'}, 'slot': 2}, {'pokemon': {'name': 'natu', 'url': 'https://pokeapi.co/api/v2/pokemon/177/'}, 'slot': 2}, {'pokemon': {'name': 'xatu', 'url': 'https://pokeapi.co/api/v2/pokemon/178/'}, 'slot': 2}, {'pokemon': {'name': 'hoppip', 'url': 'https://pokeapi.co/api/v2/pokemon/187/'}, 'slot': 2}, {'pokemon': {'name': 'skiploom', 'url': 'https://pokeapi.co/api/v2/pokemon/188/'}, 'slot': 2}, {'pokemon': {'name': 'jumpluff', 'url': 'https://pokeapi.co/api/v2/pokemon/189/'}, 'slot': 2}, {'pokemon': {'name': 'yanma', 'url': 'https://pokeapi.co/api/v2/pokemon/193/'}, 'slot': 2}, {'pokemon': {'name': 'murkrow', 'url': 'https://pokeapi.co/api/v2/pokemon/198/'}, 'slot': 2}, {'pokemon': {'name': 'gligar', 'url': 'https://pokeapi.co/api/v2/pokemon/207/'}, 'slot': 2}, {'pokemon': {'name': 'delibird', 'url': 'https://pokeapi.co/api/v2/pokemon/225/'}, 'slot': 2}, {'pokemon': {'name': 'mantine', 'url': 'https://pokeapi.co/api/v2/pokemon/226/'}, 'slot': 2}, {'pokemon': {'name': 'skarmory', 'url': 'https://pokeapi.co/api/v2/pokemon/227/'}, 'slot': 2}, {'pokemon': {'name': 'lugia', 'url': 'https://pokeapi.co/api/v2/pokemon/249/'}, 'slot': 2}, {'pokemon': {'name': 'ho-oh', 'url': 'https://pokeapi.co/api/v2/pokemon/250/'}, 'slot': 2}, {'pokemon': {'name': 'beautifly', 'url': 'https://pokeapi.co/api/v2/pokemon/267/'}, 'slot': 2}, {'pokemon': {'name': 'taillow', 'url': 'https://pokeapi.co/api/v2/pokemon/276/'}, 'slot': 2}, {'pokemon': {'name': 'swellow', 'url': 'https://pokeapi.co/api/v2/pokemon/277/'}, 'slot': 2}, {'pokemon': {'name': 'wingull', 'url': 'https://pokeapi.co/api/v2/pokemon/278/'}, 'slot': 2}, {'pokemon': {'name': 'pelipper', 'url': 'https://pokeapi.co/api/v2/pokemon/279/'}, 'slot': 2}, {'pokemon': {'name': 'masquerain', 'url': 'https://pokeapi.co/api/v2/pokemon/284/'}, 'slot': 2}, {'pokemon': {'name': 'ninjask', 'url': 'https://pokeapi.co/api/v2/pokemon/291/'}, 'slot': 2}, {'pokemon': {'name': 'swablu', 'url': 'https://pokeapi.co/api/v2/pokemon/333/'}, 'slot': 2}, {'pokemon': {'name': 'altaria', 'url': 'https://pokeapi.co/api/v2/pokemon/334/'}, 'slot': 2}, {'pokemon': {'name': 'tropius', 'url': 'https://pokeapi.co/api/v2/pokemon/357/'}, 'slot': 2}, {'pokemon': {'name': 'salamence', 'url': 'https://pokeapi.co/api/v2/pokemon/373/'}, 'slot': 2}, {'pokemon': {'name': 'rayquaza', 'url': 'https://pokeapi.co/api/v2/pokemon/384/'}, 'slot': 2}, {'pokemon': {'name': 'starly', 'url': 'https://pokeapi.co/api/v2/pokemon/396/'}, 'slot': 2}, {'pokemon': {'name': 'staravia', 'url': 'https://pokeapi.co/api/v2/pokemon/397/'}, 'slot': 2}, {'pokemon': {'name': 'staraptor', 'url': 'https://pokeapi.co/api/v2/pokemon/398/'}, 'slot': 2}, {'pokemon': {'name': 'mothim', 'url': 'https://pokeapi.co/api/v2/pokemon/414/'}, 'slot': 2}, {'pokemon': {'name': 'combee', 'url': 'https://pokeapi.co/api/v2/pokemon/415/'}, 'slot': 2}, {'pokemon': {'name': 'vespiquen', 'url': 'https://pokeapi.co/api/v2/pokemon/416/'}, 'slot': 2}, {'pokemon': {'name': 'drifloon', 'url': 'https://pokeapi.co/api/v2/pokemon/425/'}, 'slot': 2}, {'pokemon': {'name': 'drifblim', 'url': 'https://pokeapi.co/api/v2/pokemon/426/'}, 'slot': 2}, {'pokemon': {'name': 'honchkrow', 'url': 'https://pokeapi.co/api/v2/pokemon/430/'}, 'slot': 2}, {'pokemon': {'name': 'chatot', 'url': 'https://pokeapi.co/api/v2/pokemon/441/'}, 'slot': 2}, {'pokemon': {'name': 'mantyke', 'url': 'https://pokeapi.co/api/v2/pokemon/458/'}, 'slot': 2}, {'pokemon': {'name': 'togekiss', 'url': 'https://pokeapi.co/api/v2/pokemon/468/'}, 'slot': 2}, {'pokemon': {'name': 'yanmega', 'url': 'https://pokeapi.co/api/v2/pokemon/469/'}, 'slot': 2}, {'pokemon': {'name': 'gliscor', 'url': 'https://pokeapi.co/api/v2/pokemon/472/'}, 'slot': 2}, {'pokemon': {'name': 'pidove', 'url': 'https://pokeapi.co/api/v2/pokemon/519/'}, 'slot': 2}, {'pokemon': {'name': 'tranquill', 'url': 'https://pokeapi.co/api/v2/pokemon/520/'}, 'slot': 2}, {'pokemon': {'name': 'unfezant', 'url': 'https://pokeapi.co/api/v2/pokemon/521/'}, 'slot': 2}, {'pokemon': {'name': 'woobat', 'url': 'https://pokeapi.co/api/v2/pokemon/527/'}, 'slot': 2}, {'pokemon': {'name': 'swoobat', 'url': 'https://pokeapi.co/api/v2/pokemon/528/'}, 'slot': 2}, {'pokemon': {'name': 'sigilyph', 'url': 'https://pokeapi.co/api/v2/pokemon/561/'}, 'slot': 2}, {'pokemon': {'name': 'archen', 'url': 'https://pokeapi.co/api/v2/pokemon/566/'}, 'slot': 2}, {'pokemon': {'name': 'archeops', 'url': 'https://pokeapi.co/api/v2/pokemon/567/'}, 'slot': 2}, {'pokemon': {'name': 'ducklett', 'url': 'https://pokeapi.co/api/v2/pokemon/580/'}, 'slot': 2}, {'pokemon': {'name': 'swanna', 'url': 'https://pokeapi.co/api/v2/pokemon/581/'}, 'slot': 2}, {'pokemon': {'name': 'emolga', 'url': 'https://pokeapi.co/api/v2/pokemon/587/'}, 'slot': 2}, {'pokemon': {'name': 'rufflet', 'url': 'https://pokeapi.co/api/v2/pokemon/627/'}, 'slot': 2}, {'pokemon': {'name': 'braviary', 'url': 'https://pokeapi.co/api/v2/pokemon/628/'}, 'slot': 2}, {'pokemon': {'name': 'vullaby', 'url': 'https://pokeapi.co/api/v2/pokemon/629/'}, 'slot': 2}, {'pokemon': {'name': 'mandibuzz', 'url': 'https://pokeapi.co/api/v2/pokemon/630/'}, 'slot': 2}, {'pokemon': {'name': 'tornadus-incarnate', 'url': 'https://pokeapi.co/api/v2/pokemon/641/'}, 'slot': 1}, {'pokemon': {'name': 'thundurus-incarnate', 'url': 'https://pokeapi.co/api/v2/pokemon/642/'}, 'slot': 2}, {'pokemon': {'name': 'landorus-incarnate', 'url': 'https://pokeapi.co/api/v2/pokemon/645/'}, 'slot': 2}, {'pokemon': {'name': 'fletchling', 'url': 'https://pokeapi.co/api/v2/pokemon/661/'}, 'slot': 2}, {'pokemon': {'name': 'fletchinder', 'url': 'https://pokeapi.co/api/v2/pokemon/662/'}, 'slot': 2}, {'pokemon': {'name': 'talonflame', 'url': 'https://pokeapi.co/api/v2/pokemon/663/'}, 'slot': 2}, {'pokemon': {'name': 'vivillon', 'url': 'https://pokeapi.co/api/v2/pokemon/666/'}, 'slot': 2}, {'pokemon': {'name': 'hawlucha', 'url': 'https://pokeapi.co/api/v2/pokemon/701/'}, 'slot': 2}, {'pokemon': {'name': 'noibat', 'url': 'https://pokeapi.co/api/v2/pokemon/714/'}, 'slot': 1}, {'pokemon': {'name': 'noivern', 'url': 'https://pokeapi.co/api/v2/pokemon/715/'}, 'slot': 1}, {'pokemon': {'name': 'yveltal', 'url': 'https://pokeapi.co/api/v2/pokemon/717/'}, 'slot': 2}, {'pokemon': {'name': 'rowlet', 'url': 'https://pokeapi.co/api/v2/pokemon/722/'}, 'slot': 2}, {'pokemon': {'name': 'dartrix', 'url': 'https://pokeapi.co/api/v2/pokemon/723/'}, 'slot': 2}, {'pokemon': {'name': 'pikipek', 'url': 'https://pokeapi.co/api/v2/pokemon/731/'}, 'slot': 2}, {'pokemon': {'name': 'trumbeak', 'url': 'https://pokeapi.co/api/v2/pokemon/732/'}, 'slot': 2}, {'pokemon': {'name': 'toucannon', 'url': 'https://pokeapi.co/api/v2/pokemon/733/'}, 'slot': 2}, {'pokemon': {'name': 'oricorio-baile', 'url': 'https://pokeapi.co/api/v2/pokemon/741/'}, 'slot': 2}, {'pokemon': {'name': 'minior-red-meteor', 'url': 'https://pokeapi.co/api/v2/pokemon/774/'}, 'slot': 2}, {'pokemon': {'name': 'celesteela', 'url': 'https://pokeapi.co/api/v2/pokemon/797/'}, 'slot': 2}, {'pokemon': {'name': 'rookidee', 'url': 'https://pokeapi.co/api/v2/pokemon/821/'}, 'slot': 1}, {'pokemon': {'name': 'corvisquire', 'url': 'https://pokeapi.co/api/v2/pokemon/822/'}, 'slot': 1}, {'pokemon': {'name': 'corviknight', 'url': 'https://pokeapi.co/api/v2/pokemon/823/'}, 'slot': 1}, {'pokemon': {'name': 'cramorant', 'url': 'https://pokeapi.co/api/v2/pokemon/845/'}, 'slot': 1}, {'pokemon': {'name': 'shaymin-sky', 'url': 'https://pokeapi.co/api/v2/pokemon/10006/'}, 'slot': 2}, {'pokemon': {'name': 'rotom-fan', 'url': 'https://pokeapi.co/api/v2/pokemon/10011/'}, 'slot': 2}, {'pokemon': {'name': 'tornadus-therian', 'url': 'https://pokeapi.co/api/v2/pokemon/10019/'}, 'slot': 1}, {'pokemon': {'name': 'thundurus-therian', 'url': 'https://pokeapi.co/api/v2/pokemon/10020/'}, 'slot': 2}, {'pokemon': {'name': 'landorus-therian', 'url': 'https://pokeapi.co/api/v2/pokemon/10021/'}, 'slot': 2}, {'pokemon': {'name': 'charizard-mega-y', 'url': 'https://pokeapi.co/api/v2/pokemon/10035/'}, 'slot': 2}, {'pokemon': {'name': 'pinsir-mega', 'url': 'https://pokeapi.co/api/v2/pokemon/10040/'}, 'slot': 2}, {'pokemon': {'name': 'aerodactyl-mega', 'url': 'https://pokeapi.co/api/v2/pokemon/10042/'}, 'slot': 2}, {'pokemon': {'name': 'pidgeot-mega', 'url': 'https://pokeapi.co/api/v2/pokemon/10073/'}, 'slot': 2}, {'pokemon': {'name': 'rayquaza-mega', 'url': 'https://pokeapi.co/api/v2/pokemon/10079/'}, 'slot': 2}, {'pokemon': {'name': 'salamence-mega', 'url': 'https://pokeapi.co/api/v2/pokemon/10089/'}, 'slot': 2}, {'pokemon': {'name': 'oricorio-pom-pom', 'url': 'https://pokeapi.co/api/v2/pokemon/10123/'}, 'slot': 2}, {'pokemon': {'name': 'oricorio-pau', 'url': 'https://pokeapi.co/api/v2/pokemon/10124/'}, 'slot': 2}, {'pokemon': {'name': 'oricorio-sensu', 'url': 'https://pokeapi.co/api/v2/pokemon/10125/'}, 'slot': 2}, {'pokemon': {'name': 'minior-orange-meteor', 'url': 'https://pokeapi.co/api/v2/pokemon/10130/'}, 'slot': 2}, {'pokemon': {'name': 'minior-yellow-meteor', 'url': 'https://pokeapi.co/api/v2/pokemon/10131/'}, 'slot': 2}, {'pokemon': {'name': 'minior-green-meteor', 'url': 'https://pokeapi.co/api/v2/pokemon/10132/'}, 'slot': 2}, {'pokemon': {'name': 'minior-blue-meteor', 'url': 'https://pokeapi.co/api/v2/pokemon/10133/'}, 'slot': 2}, {'pokemon': {'name': 'minior-indigo-meteor', 'url': 'https://pokeapi.co/api/v2/pokemon/10134/'}, 'slot': 2}, {'pokemon': {'name': 'minior-violet-meteor', 'url': 'https://pokeapi.co/api/v2/pokemon/10135/'}, 'slot': 2}, {'pokemon': {'name': 'minior-red', 'url': 'https://pokeapi.co/api/v2/pokemon/10136/'}, 'slot': 2}, {'pokemon': {'name': 'minior-orange', 'url': 'https://pokeapi.co/api/v2/pokemon/10137/'}, 'slot': 2}, {'pokemon': {'name': 'minior-yellow', 'url': 'https://pokeapi.co/api/v2/pokemon/10138/'}, 'slot': 2}, {'pokemon': {'name': 'minior-green', 'url': 'https://pokeapi.co/api/v2/pokemon/10139/'}, 'slot': 2}, {'pokemon': {'name': 'minior-blue', 'url': 'https://pokeapi.co/api/v2/pokemon/10140/'}, 'slot': 2}, {'pokemon': {'name': 'minior-indigo', 'url': 'https://pokeapi.co/api/v2/pokemon/10141/'}, 'slot': 2}, {'pokemon': {'name': 'minior-violet', 'url': 'https://pokeapi.co/api/v2/pokemon/10142/'}, 'slot': 2}, {'pokemon': {'name': 'articuno-galar', 'url': 'https://pokeapi.co/api/v2/pokemon/10166/'}, 'slot': 2}, {'pokemon': {'name': 'zapdos-galar', 'url': 'https://pokeapi.co/api/v2/pokemon/10167/'}, 'slot': 2}, {'pokemon': {'name': 'moltres-galar', 'url': 'https://pokeapi.co/api/v2/pokemon/10168/'}, 'slot': 2}, {'pokemon': {'name': 'charizard-gmax', 'url': 'https://pokeapi.co/api/v2/pokemon/10187/'}, 'slot': 2}, {'pokemon': {'name': 'butterfree-gmax', 'url': 'https://pokeapi.co/api/v2/pokemon/10189/'}, 'slot': 2}, {'pokemon': {'name': 'corviknight-gmax', 'url': 'https://pokeapi.co/api/v2/pokemon/10203/'}, 'slot': 1}]}\n"
     ]
    }
   ],
   "source": [
    "print(data1)"
   ]
  },
  {
   "cell_type": "code",
   "execution_count": 23,
   "metadata": {
    "scrolled": false
   },
   "outputs": [
    {
     "ename": "KeyError",
     "evalue": "'abilities'",
     "output_type": "error",
     "traceback": [
      "\u001b[1;31m---------------------------------------------------------------------------\u001b[0m",
      "\u001b[1;31mKeyError\u001b[0m                                  Traceback (most recent call last)",
      "\u001b[1;32m<ipython-input-23-9673992b3e27>\u001b[0m in \u001b[0;36m<module>\u001b[1;34m\u001b[0m\n\u001b[1;32m----> 1\u001b[1;33m \u001b[0mdata1\u001b[0m\u001b[1;33m[\u001b[0m\u001b[1;34m'abilities'\u001b[0m\u001b[1;33m]\u001b[0m\u001b[1;33m\u001b[0m\u001b[1;33m\u001b[0m\u001b[0m\n\u001b[0m",
      "\u001b[1;31mKeyError\u001b[0m: 'abilities'"
     ]
    }
   ],
   "source": [
    "data1['abilities']"
   ]
  },
  {
   "cell_type": "code",
   "execution_count": 89,
   "metadata": {},
   "outputs": [
    {
     "data": {
      "text/plain": [
       "7"
      ]
     },
     "execution_count": 89,
     "metadata": {},
     "output_type": "execute_result"
    }
   ],
   "source": [
    "# data['height']"
   ]
  },
  {
   "cell_type": "code",
   "execution_count": 77,
   "metadata": {},
   "outputs": [
    {
     "name": "stdout",
     "output_type": "stream",
     "text": [
      "{\"ability\": {\"name\": \"run-away\", \"url\": \"https://pokeapi.co/api/v2/ability/50/\"}}\n",
      "{\"ability\": {\"name\": \"guts\", \"url\": \"https://pokeapi.co/api/v2/ability/62/\"}}\n",
      "{\"ability\": {\"name\": \"hustle\", \"url\": \"https://pokeapi.co/api/v2/ability/55/\"}}\n"
     ]
    }
   ],
   "source": [
    "list_of_stats = []\n",
    "\n",
    "for s in stats:\n",
    "#     print(s)\n",
    "    new_dict = {\n",
    "        'ability': s['ability']\n",
    "#         'name': s['name'],\n",
    "#         'height': s['height'],\n",
    "#         'weight': s['weight'],\n",
    "#         'stat': s['stat'],\n",
    "    }\n",
    "    list_of_stats.append(new_dict)\n",
    "    \n",
    "    json_result = json.dumps(new_dict)\n",
    "    print(json_result)"
   ]
  },
  {
   "cell_type": "code",
   "execution_count": 48,
   "metadata": {},
   "outputs": [],
   "source": [
    "def print_info(*args):\n",
    "    for arg in args:\n",
    "        print(arg)"
   ]
  },
  {
   "cell_type": "code",
   "execution_count": 41,
   "metadata": {},
   "outputs": [],
   "source": [
    "# print_info()"
   ]
  },
  {
   "cell_type": "code",
   "execution_count": 76,
   "metadata": {},
   "outputs": [],
   "source": [
    "# j = json.loads(json.dumps(jsonStr))\n",
    "# print(j)"
   ]
  },
  {
   "cell_type": "code",
   "execution_count": 49,
   "metadata": {},
   "outputs": [],
   "source": [
    "class Types:\n",
    "    def __init__(self, type):\n",
    "        self.type = type\n",
    "    \n",
    "class Characters:\n",
    "    def __init__(self, *args):\n",
    "        self.args = args\n",
    "    def from_dict(self, data):\n",
    "        for field in ['name', 'height', 'weight', 'stats', 'abilities']:\n",
    "            if field in data:\n",
    "                setattr(self, field, data[field])  "
   ]
  },
  {
   "cell_type": "code",
   "execution_count": null,
   "metadata": {},
   "outputs": [],
   "source": []
  },
  {
   "cell_type": "code",
   "execution_count": null,
   "metadata": {},
   "outputs": [],
   "source": []
  },
  {
   "cell_type": "code",
   "execution_count": null,
   "metadata": {},
   "outputs": [],
   "source": []
  },
  {
   "cell_type": "code",
   "execution_count": null,
   "metadata": {},
   "outputs": [],
   "source": []
  },
  {
   "cell_type": "code",
   "execution_count": null,
   "metadata": {},
   "outputs": [],
   "source": []
  },
  {
   "cell_type": "code",
   "execution_count": null,
   "metadata": {},
   "outputs": [],
   "source": []
  },
  {
   "cell_type": "code",
   "execution_count": null,
   "metadata": {},
   "outputs": [],
   "source": []
  }
 ],
 "metadata": {
  "colab": {
   "name": "Pokemon Coding Challenge.ipynb",
   "provenance": []
  },
  "kernelspec": {
   "display_name": "Python 3",
   "language": "python",
   "name": "python3"
  },
  "language_info": {
   "codemirror_mode": {
    "name": "ipython",
    "version": 3
   },
   "file_extension": ".py",
   "mimetype": "text/x-python",
   "name": "python",
   "nbconvert_exporter": "python",
   "pygments_lexer": "ipython3",
   "version": "3.8.8"
  }
 },
 "nbformat": 4,
 "nbformat_minor": 1
}
